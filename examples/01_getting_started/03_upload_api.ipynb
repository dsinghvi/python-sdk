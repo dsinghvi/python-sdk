{
 "cells": [
  {
   "cell_type": "markdown",
   "id": "a0f8b05fe3b9579a",
   "metadata": {
    "collapsed": false
   },
   "source": [
    "# Getting Started - Lab 03 - Vectara Upload API\n",
    "\n",
    "We'll now explore the Vectara Upload API.\n",
    "\n",
    "This notebook will use our \"lab\" authentication profile, if you haven't set this up, please [Setup Authentication](./00_setup_authentication.ipynb).\n"
   ]
  },
  {
   "cell_type": "code",
   "execution_count": null,
   "id": "81670349a8eba05b",
   "metadata": {
    "collapsed": false
   },
   "outputs": [],
   "source": [
    "from vectara.factory import Factory\n",
    "from getting_started_util import GettingStartedUtil\n",
    "\n",
    "util = GettingStartedUtil()\n",
    "logger = util.logger\n",
    "client = Factory(profile=\"lab\").build()"
   ]
  },
  {
   "cell_type": "markdown",
   "id": "900b609070d82c4d",
   "metadata": {
    "collapsed": false
   },
   "source": [
    "## Setup Corpus\n",
    "We will setup a lab corpus below before we upload our data. We'll examine this in more depth in the following notebooks."
   ]
  },
  {
   "cell_type": "code",
   "execution_count": null,
   "id": "2c57e8fb09b980eb",
   "metadata": {
    "collapsed": false
   },
   "outputs": [],
   "source": [
    "corpus_key = util.lab_03_setup(client)"
   ]
  },
  {
   "cell_type": "markdown",
   "id": "f46ddfe066d64d9e",
   "metadata": {
    "collapsed": false
   },
   "source": [
    "## Load Our Content\n",
    "We'll now upload a research article from the Arxiv research repository."
   ]
  },
  {
   "cell_type": "code",
   "execution_count": null,
   "id": "80a469b8ff507628",
   "metadata": {
    "collapsed": false
   },
   "outputs": [],
   "source": [
    "upload_manager = client.upload_manager\n",
    "upload_manager.upload(corpus_key, \"./resources/arxiv/2409.05865v1.pdf\")"
   ]
  },
  {
   "cell_type": "markdown",
   "id": "2b5985777b05fa23",
   "metadata": {
    "collapsed": false
   },
   "source": [
    "## Check the data is in the Corpus\n",
    "We can run a list on our corpus documents"
   ]
  },
  {
   "cell_type": "code",
   "execution_count": null,
   "id": "c46bf8369ae47ce1",
   "metadata": {
    "collapsed": false
   },
   "outputs": [],
   "source": [
    "client.documents.list(corpus_key)"
   ]
  },
  {
   "cell_type": "markdown",
   "id": "64177fcc426a58d7",
   "metadata": {
    "collapsed": false
   },
   "source": [
    "## Upload with Different Name\n",
    "Each document must have a unique name which we refer to as the \"document Id\". We can specify a different name for the document as per below."
   ]
  },
  {
   "cell_type": "code",
   "execution_count": null,
   "id": "65813ec1f239c9b8",
   "metadata": {
    "collapsed": false
   },
   "outputs": [],
   "source": [
    "upload_manager.upload(corpus_key, \"./resources/arxiv/2409.05865v1.pdf\", doc_id=\"Better_Models_for_Robotics\")"
   ]
  },
  {
   "cell_type": "markdown",
   "id": "e5050d2bf643894",
   "metadata": {
    "collapsed": false
   },
   "source": [
    "## Re-Run the Document List\n",
    "We'll now re-run the document list, this time specifying a value for `metadata_filter` which \n",
    "will restrict the documents shown. We'll expand more on this in the Filter Attributes labs."
   ]
  },
  {
   "cell_type": "code",
   "execution_count": null,
   "id": "1773c5d797e7fd7c",
   "metadata": {
    "collapsed": false
   },
   "outputs": [],
   "source": [
    "client.documents.list(corpus_key, metadata_filter=\"doc.id = 'Better_Models_for_Robotics'\")"
   ]
  }
 ],
 "metadata": {
  "kernelspec": {
   "display_name": "Python 3 (ipykernel)",
   "language": "python",
   "name": "python3"
  },
  "language_info": {
   "codemirror_mode": {
    "name": "ipython",
    "version": 3
   },
   "file_extension": ".py",
   "mimetype": "text/x-python",
   "name": "python",
   "nbconvert_exporter": "python",
   "pygments_lexer": "ipython3",
   "version": "3.12.1"
  }
 },
 "nbformat": 4,
 "nbformat_minor": 5
}
